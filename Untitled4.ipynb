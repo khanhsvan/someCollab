{
  "nbformat": 4,
  "nbformat_minor": 0,
  "metadata": {
    "colab": {
      "provenance": [],
      "authorship_tag": "ABX9TyMjYdk/hNRaRHQYD82dpScL",
      "include_colab_link": true
    },
    "kernelspec": {
      "name": "python3",
      "display_name": "Python 3"
    },
    "language_info": {
      "name": "python"
    }
  },
  "cells": [
    {
      "cell_type": "markdown",
      "metadata": {
        "id": "view-in-github",
        "colab_type": "text"
      },
      "source": [
        "<a href=\"https://colab.research.google.com/github/khanhsvan/someCollab/blob/main/Untitled4.ipynb\" target=\"_parent\"><img src=\"https://colab.research.google.com/assets/colab-badge.svg\" alt=\"Open In Colab\"/></a>"
      ]
    },
    {
      "cell_type": "markdown",
      "source": [
        " Đọc dữ liệu từ các file CSV\n"
      ],
      "metadata": {
        "id": "X7IRFMoaXjmH"
      }
    },
    {
      "cell_type": "code",
      "source": [
        "import pandas as pd\n",
        "from sklearn.model_selection import train_test_split\n",
        "from sklearn.metrics import mean_squared_error\n",
        "from sklearn.ensemble import RandomForestRegressor\n",
        "from sklearn.linear_model import LinearRegression\n",
        "from sklearn.feature_extraction.text import TfidfVectorizer\n",
        "from sklearn.metrics.pairwise import cosine_similarity\n",
        "\n",
        "\n",
        "# Đọc dữ liệu từ các file CSV và JSON\n",
        "games_df = pd.read_csv('games.csv')\n",
        "recommendations_df = pd.read_csv('recommendations.csv', error_bad_lines=False)\n",
        "users_df = pd.read_csv('users.csv', error_bad_lines=False)\n",
        "# metadata_df = pd.read_json('games_metadata.json', lines=True)\n",
        "\n",
        "# Loại bỏ các dòng có dữ liệu thiếu trong 'recommendations_df'\n",
        "recommendations_df.dropna(inplace=True)\n",
        "games_df.dropna(inplace=True)\n",
        "users_df.dropna(inplace=True)\n",
        "\n",
        "# Chuyển đổi cột 'date_release' của DataFrame games_df thành định dạng datetime\n",
        "games_df['date_release'] = pd.to_datetime(games_df['date_release'])\n",
        "\n",
        "# Lọc các dòng từ năm 2020 trở đi\n",
        "games_df = games_df[games_df['date_release'] > '2020-01-01']\n",
        "\n",
        "\n"
      ],
      "metadata": {
        "colab": {
          "base_uri": "https://localhost:8080/"
        },
        "id": "XnIaf-acbZJB",
        "outputId": "ec7b5824-790f-4cc5-baf8-cda47c6fad80"
      },
      "execution_count": 1,
      "outputs": [
        {
          "output_type": "stream",
          "name": "stderr",
          "text": [
            "<ipython-input-1-245689d590ad>:12: FutureWarning: The error_bad_lines argument has been deprecated and will be removed in a future version. Use on_bad_lines in the future.\n",
            "\n",
            "\n",
            "  recommendations_df = pd.read_csv('recommendations.csv', error_bad_lines=False)\n",
            "Skipping line 128545: expected 8 fields, saw 14\n",
            "\n",
            "Skipping line 149972: expected 8 fields, saw 9\n",
            "\n",
            "Skipping line 235663: expected 8 fields, saw 11\n",
            "\n",
            "Skipping line 278516: expected 8 fields, saw 11\n",
            "Skipping line 299946: expected 8 fields, saw 9\n",
            "\n",
            "Skipping line 407070: expected 8 fields, saw 11\n",
            "Skipping line 428497: expected 8 fields, saw 12\n",
            "\n",
            "Skipping line 471341: expected 8 fields, saw 11\n",
            "\n",
            "Skipping line 557035: expected 8 fields, saw 11\n",
            "Skipping line 578457: expected 8 fields, saw 9\n",
            "\n",
            "Skipping line 642731: expected 8 fields, saw 9\n",
            "\n",
            "Skipping line 685574: expected 8 fields, saw 9\n",
            "\n",
            "Skipping line 728432: expected 8 fields, saw 10\n",
            "Skipping line 771271: expected 8 fields, saw 11\n",
            "\n",
            "Skipping line 856973: expected 8 fields, saw 15\n",
            "\n",
            "Skipping line 921236: expected 8 fields, saw 13\n",
            "Skipping line 964076: expected 8 fields, saw 9\n",
            "\n",
            "Skipping line 1006928: expected 8 fields, saw 11\n",
            "\n",
            "Skipping line 1071201: expected 8 fields, saw 11\n",
            "\n",
            "Skipping line 1135474: expected 8 fields, saw 10\n",
            "Skipping line 1156887: expected 8 fields, saw 13\n",
            "\n",
            "Skipping line 1199736: expected 8 fields, saw 12\n",
            "\n",
            "Skipping line 1371025: expected 8 fields, saw 11\n",
            "\n",
            "<ipython-input-1-245689d590ad>:12: DtypeWarning: Columns (0,1,2,4) have mixed types. Specify dtype option on import or set low_memory=False.\n",
            "  recommendations_df = pd.read_csv('recommendations.csv', error_bad_lines=False)\n",
            "<ipython-input-1-245689d590ad>:13: FutureWarning: The error_bad_lines argument has been deprecated and will be removed in a future version. Use on_bad_lines in the future.\n",
            "\n",
            "\n",
            "  users_df = pd.read_csv('users.csv', error_bad_lines=False)\n",
            "Skipping line 155526: expected 3 fields, saw 4\n",
            "\n",
            "Skipping line 465794: expected 3 fields, saw 4\n",
            "\n",
            "Skipping line 1167175: expected 3 fields, saw 4\n",
            "Skipping line 1245680: expected 3 fields, saw 4\n",
            "\n",
            "Skipping line 1556030: expected 3 fields, saw 5\n",
            "\n",
            "Skipping line 2257290: expected 3 fields, saw 5\n",
            "\n",
            "Skipping line 2491712: expected 3 fields, saw 4\n",
            "Skipping line 2568959: expected 3 fields, saw 4\n",
            "\n",
            "Skipping line 2801752: expected 3 fields, saw 4\n",
            "\n",
            "Skipping line 2957522: expected 3 fields, saw 5\n",
            "\n",
            "Skipping line 3424726: expected 3 fields, saw 4\n",
            "\n",
            "Skipping line 3892297: expected 3 fields, saw 4\n",
            "\n",
            "Skipping line 4047632: expected 3 fields, saw 5\n",
            "\n",
            "Skipping line 4281344: expected 3 fields, saw 4\n",
            "Skipping line 4437370: expected 3 fields, saw 5\n",
            "\n",
            "Skipping line 4749215: expected 3 fields, saw 4\n",
            "Skipping line 4905712: expected 3 fields, saw 5\n",
            "\n",
            "Skipping line 5449170: expected 3 fields, saw 4\n",
            "\n",
            "Skipping line 5605177: expected 3 fields, saw 5\n",
            "\n",
            "Skipping line 5916739: expected 3 fields, saw 4\n",
            "\n",
            "Skipping line 6073345: expected 3 fields, saw 5\n",
            "\n",
            "Skipping line 6772932: expected 3 fields, saw 4\n",
            "\n",
            "Skipping line 7084361: expected 3 fields, saw 5\n",
            "Skipping line 7319044: expected 3 fields, saw 4\n",
            "\n",
            "Skipping line 7396821: expected 3 fields, saw 4\n",
            "Skipping line 7551253: expected 3 fields, saw 4\n",
            "\n",
            "Skipping line 7706887: expected 3 fields, saw 4\n",
            "\n",
            "Skipping line 7940738: expected 3 fields, saw 4\n",
            "\n",
            "Skipping line 8252248: expected 3 fields, saw 5\n",
            "\n",
            "Skipping line 8564962: expected 3 fields, saw 5\n",
            "\n",
            "Skipping line 8874894: expected 3 fields, saw 4\n",
            "\n",
            "Skipping line 8952760: expected 3 fields, saw 4\n",
            "\n",
            "Skipping line 9342375: expected 3 fields, saw 4\n",
            "\n",
            "Skipping line 9498233: expected 3 fields, saw 5\n",
            "\n",
            "Skipping line 9732355: expected 3 fields, saw 5\n",
            "\n",
            "Skipping line 9965401: expected 3 fields, saw 5\n",
            "\n",
            "Skipping line 10432665: expected 3 fields, saw 4\n",
            "\n",
            "Skipping line 10744155: expected 3 fields, saw 4\n",
            "\n",
            "Skipping line 10978315: expected 3 fields, saw 5\n",
            "\n",
            "Skipping line 11366686: expected 3 fields, saw 4\n",
            "Skipping line 11522626: expected 3 fields, saw 4\n",
            "\n",
            "Skipping line 11756168: expected 3 fields, saw 4\n",
            "\n",
            "Skipping line 11990591: expected 3 fields, saw 5\n",
            "\n",
            "Skipping line 12379409: expected 3 fields, saw 4\n",
            "Skipping line 12534795: expected 3 fields, saw 4\n",
            "\n",
            "Skipping line 12768564: expected 3 fields, saw 5\n",
            "\n",
            "Skipping line 13002487: expected 3 fields, saw 5\n",
            "\n",
            "Skipping line 13236718: expected 3 fields, saw 5\n",
            "\n"
          ]
        }
      ]
    },
    {
      "cell_type": "code",
      "source": [
        "# Tạo mô hình học máy cộng tác\n",
        "# Chia tập dữ liệu thành tập huấn luyện và tập kiểm tra\n",
        "train, test = train_test_split(recommendations_df, test_size=0.6, random_state=42)\n",
        "\n"
      ],
      "metadata": {
        "id": "zC0RjP8ueqoo"
      },
      "execution_count": 2,
      "outputs": []
    },
    {
      "cell_type": "code",
      "source": [
        "# Mô hình học máy cộng tác với số cây giảm xuống\n",
        "rf_model = RandomForestRegressor(n_estimators=40, random_state=21)\n",
        "rf_model.fit(train[['user_id', 'app_id']], train['hours'])\n"
      ],
      "metadata": {
        "id": "jUUF1cpWgWpB"
      },
      "execution_count": null,
      "outputs": []
    },
    {
      "cell_type": "code",
      "source": [
        "# Đánh giá mô hình\n",
        "predictions = rf_model.predict(test[['user_id', 'app_id']])\n",
        "rmse = mean_squared_error(test['hours'], predictions, squared=False)\n",
        "print(f'Collaborative Filtering RMSE: {rmse}')\n"
      ],
      "metadata": {
        "id": "kRQuJWsagaSI"
      },
      "execution_count": null,
      "outputs": []
    },
    {
      "cell_type": "code",
      "source": [
        "# Tạo mô hình dựa trên nội dung\n",
        "# Sử dụng TF-IDF để vectơ hóa mô tả game\n",
        "tfidf_vectorizer = TfidfVectorizer(stop_words='english')\n",
        "tfidf_matrix = tfidf_vectorizer.fit_transform(games_df['rating'].values.astype('U'))\n"
      ],
      "metadata": {
        "id": "U1PH5L6cgenu"
      },
      "execution_count": null,
      "outputs": []
    },
    {
      "cell_type": "code",
      "source": [
        "# Tính toán ma trận tương đồng cosine giữa các game\n",
        "cosine_sim = cosine_similarity(tfidf_matrix, tfidf_matrix)\n"
      ],
      "metadata": {
        "id": "Z_qVQVbqghgX"
      },
      "execution_count": null,
      "outputs": []
    },
    {
      "cell_type": "code",
      "source": [
        "# Hàm để đề xuất game dựa trên nội dung\n",
        "def content_based_recommendation(game_id):\n",
        "    idx = games_df[games_df['app_id'] == game_id].index[0]\n",
        "    sim_scores = list(enumerate(cosine_sim[idx]))\n",
        "    sim_scores = sorted(sim_scores, key=lambda x: x[1], reverse=True)\n",
        "    sim_scores = sim_scores[1:6]\n",
        "    game_indices = [i[0] for i in sim_scores]\n",
        "    return games_df['app_id'].iloc[game_indices]\n"
      ],
      "metadata": {
        "id": "QVW2zrBMgkAb"
      },
      "execution_count": null,
      "outputs": []
    },
    {
      "cell_type": "code",
      "source": [
        "# Tạo mô hình học máy tuyến tính\n",
        "linear_model = LinearRegression()\n",
        "linear_model.fit(train[['user_id', 'app_id']], train['hours'])\n"
      ],
      "metadata": {
        "id": "ynY_4qcYgm5J"
      },
      "execution_count": null,
      "outputs": []
    },
    {
      "cell_type": "code",
      "source": [
        "# Đánh giá mô hình tuyến tính\n",
        "linear_predictions = linear_model.predict(test[['user_id', 'app_id']])\n",
        "linear_rmse = mean_squared_error(test['hours'], linear_predictions, squared=False)\n",
        "print(f'Linear Regression RMSE: {linear_rmse}')\n"
      ],
      "metadata": {
        "id": "C1uqVxjFm_jI"
      },
      "execution_count": null,
      "outputs": []
    },
    {
      "cell_type": "code",
      "source": [
        "# Đề xuất game dựa trên giờ chơi từ mô hình tuyến tính\n",
        "def linear_based_recommendation(user_id, top_n=5):\n",
        "    user_games = games_df[games_df['app_id'].isin(recommendations_df[recommendations_df['user_id'] == user_id]['app_id'])]\n",
        "    user_games['predicted_hours'] = linear_model.predict(user_games[['user_id', 'app_id']])\n",
        "    recommended_games = user_games.sort_values(by='predicted_hours', ascending=False)['app_id'].head(top_n)\n",
        "    return recommended_games\n"
      ],
      "metadata": {
        "id": "oFpPsCPRnCYy"
      },
      "execution_count": null,
      "outputs": []
    },
    {
      "cell_type": "code",
      "source": [
        "\n",
        "# Chọn một user_id để đề xuất\n",
        "user_to_recommend = 7089523  # Thay đổi user_id tùy ý\n",
        "recommended_games_linear = linear_based_recommendation(user_to_recommend)\n",
        "print(f'Linear Regression Recommendations for User {user_to_recommend}:\\n{recommended_games_linear}')\n"
      ],
      "metadata": {
        "id": "u6TZ0wMmnDMU"
      },
      "execution_count": null,
      "outputs": []
    }
  ]
}